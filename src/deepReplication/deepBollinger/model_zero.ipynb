{
 "cells": [
  {
   "cell_type": "code",
   "execution_count": 9,
   "metadata": {
    "collapsed": true,
    "ExecuteTime": {
     "end_time": "2023-11-24T18:00:28.482612500Z",
     "start_time": "2023-11-24T18:00:28.449083900Z"
    }
   },
   "outputs": [
    {
     "name": "stdout",
     "output_type": "stream",
     "text": [
      "C:\\Users\\theal\\PycharmProjects\\ensembleLegends\n"
     ]
    }
   ],
   "source": [
    "import os\n",
    "import pandas as pd\n",
    "import numpy as np\n",
    "import tensorflow as tf\n",
    "from sklearn.model_selection import train_test_split\n",
    "from keras.metrics import Precision, Recall\n",
    "from sklearn.metrics import confusion_matrix\n",
    "from src.config import DEEP_DATA_PATH\n",
    "from src.deepReplication.dataPreperation.dataCombining import combine_data\n",
    "from src.deepReplication.dataPreperation.scaling import scaling\n",
    "\n",
    "# current_path = os.getcwd()\n",
    "# current_path  = os.path.dirname(current_path)\n",
    "# current_path = os.path.dirname(current_path)\n",
    "# parent_path = os.path.dirname(current_path)\n",
    "# os.chdir(parent_path)\n",
    "print(os.getcwd())\n",
    "\n",
    "def specificity(y_true, y_pred, threshold=0.5):\n",
    "    y_pred_thresholded = tf.cast(y_pred > threshold, tf.bool)\n",
    "    y_true = tf.cast(y_true, tf.bool)\n",
    "\n",
    "    true_negatives = tf.reduce_sum(tf.cast(tf.logical_and(tf.logical_not(y_true), tf.logical_not(y_pred_thresholded)), dtype=tf.float32))\n",
    "    false_positives = tf.reduce_sum(tf.cast(tf.logical_and(tf.logical_not(y_true), y_pred_thresholded), dtype=tf.float32))\n",
    "\n",
    "    return true_negatives / (true_negatives + false_positives + tf.keras.backend.epsilon())\n",
    "\n",
    "\n",
    "precison = Precision()"
   ]
  },
  {
   "cell_type": "code",
   "execution_count": 10,
   "outputs": [],
   "source": [
    "num_prev_prices = 50\n",
    "\n",
    "running_data_preprocesing = \"Bollinger\""
   ],
   "metadata": {
    "collapsed": false,
    "ExecuteTime": {
     "end_time": "2023-11-24T18:00:29.396397700Z",
     "start_time": "2023-11-24T18:00:29.383387900Z"
    }
   }
  },
  {
   "cell_type": "code",
   "execution_count": 11,
   "outputs": [
    {
     "name": "stderr",
     "output_type": "stream",
     "text": [
      "Scaling: 100%|████████████████████████████████████████████████████████████████| 248564/248564 [07:04<00:00, 585.65it/s]\n"
     ]
    }
   ],
   "source": [
    "if running_data_preprocesing == \"Bollinger\":\n",
    "    combine_data(base_name='deepBollinger', strategy='bollinger_naive_dynamic_sl', identifier='test1bollinger', num_prev_prices=num_prev_prices, drop_nans=True)\n",
    "    scaling(base_name='Bollinger', strategy='bollinger_naive_dynamic_sl', num_prev_price=num_prev_prices)\n",
    "\n",
    "if running_data_preprocesing == \"Turtle\":\n",
    "    combine_data(base_name='deepTurtle', strategy='turtle_naive', identifier='test1turtles', num_prev_prices=num_prev_prices, drop_nans=True)\n",
    "    scaling(base_name='Turtle', strategy='turtle_naive', num_prev_price=num_prev_prices)\n",
    "\n",
    "if running_data_preprocesing == \"Box\":\n",
    "    combine_data(base_name='deepBox', strategy='box_naive', identifier='test1box', num_prev_prices=num_prev_prices, drop_nans=True)\n",
    "    scaling(base_name='Box', strategy='box_naive', num_prev_price=num_prev_prices)"
   ],
   "metadata": {
    "collapsed": false,
    "ExecuteTime": {
     "end_time": "2023-11-24T18:07:59.777778500Z",
     "start_time": "2023-11-24T18:00:30.240624Z"
    }
   }
  },
  {
   "cell_type": "code",
   "execution_count": 41,
   "outputs": [],
   "source": [
    "# path = os.path.join(DEEP_DATA_PATH, 'deepBollinger', 'scaled_combined_bollinger_naive_dynamic_sl_20100104_to_20201231_doctest.csv')\n",
    "path = os.path.join(DEEP_DATA_PATH, 'deepTurtle', 'scaled_combined_turtle_naive_20100104_to_20201231_doctest.csv')\n",
    "# path = os.path.join(DEEP_DATA_PATH, 'deepBox', 'scaled_combined_box_naive_20100104_to_20201231_doctest.csv')\n",
    "\n",
    "df = pd.read_csv(path, low_memory=False)"
   ],
   "metadata": {
    "collapsed": false,
    "ExecuteTime": {
     "end_time": "2023-11-24T17:37:57.524054900Z",
     "start_time": "2023-11-24T17:37:53.082550600Z"
    }
   }
  },
  {
   "cell_type": "code",
   "execution_count": 42,
   "outputs": [
    {
     "name": "stdout",
     "output_type": "stream",
     "text": [
      "0    424456\n",
      "1    420653\n",
      "Name: is_trade, dtype: int64\n"
     ]
    }
   ],
   "source": [
    "trade_counts = df['is_trade'].value_counts()\n",
    "print(trade_counts)"
   ],
   "metadata": {
    "collapsed": false,
    "ExecuteTime": {
     "end_time": "2023-11-24T17:42:44.411747300Z",
     "start_time": "2023-11-24T17:42:44.391858900Z"
    }
   }
  },
  {
   "cell_type": "code",
   "execution_count": 43,
   "outputs": [],
   "source": [
    "# Prepare input and target\n",
    "X = df[[f'PrevPrice_{i}' for i in range(num_prev_prices + 1)]].values\n",
    "y = df['is_trade'].values\n",
    "\n",
    "# Train-test split\n",
    "X_train, X_test, y_train, y_test = train_test_split(X, y, test_size=0.2, shuffle=True, random_state=42)"
   ],
   "metadata": {
    "collapsed": false,
    "ExecuteTime": {
     "end_time": "2023-11-24T17:42:45.229016200Z",
     "start_time": "2023-11-24T17:42:45.044117800Z"
    }
   }
  },
  {
   "cell_type": "code",
   "execution_count": 46,
   "outputs": [
    {
     "ename": "NameError",
     "evalue": "name 'precison' is not defined",
     "output_type": "error",
     "traceback": [
      "\u001B[1;31m---------------------------------------------------------------------------\u001B[0m",
      "\u001B[1;31mNameError\u001B[0m                                 Traceback (most recent call last)",
      "Cell \u001B[1;32mIn[46], line 15\u001B[0m\n\u001B[0;32m      1\u001B[0m model \u001B[38;5;241m=\u001B[39m tf\u001B[38;5;241m.\u001B[39mkeras\u001B[38;5;241m.\u001B[39mmodels\u001B[38;5;241m.\u001B[39mSequential([\n\u001B[0;32m      2\u001B[0m     tf\u001B[38;5;241m.\u001B[39mkeras\u001B[38;5;241m.\u001B[39mlayers\u001B[38;5;241m.\u001B[39mDense(\u001B[38;5;241m100\u001B[39m, activation\u001B[38;5;241m=\u001B[39m\u001B[38;5;124m'\u001B[39m\u001B[38;5;124mrelu\u001B[39m\u001B[38;5;124m'\u001B[39m, input_shape\u001B[38;5;241m=\u001B[39m(X_train\u001B[38;5;241m.\u001B[39mshape[\u001B[38;5;241m1\u001B[39m],)),\n\u001B[0;32m      3\u001B[0m     \u001B[38;5;66;03m# tf.keras.layers.Dropout(0.2),\u001B[39;00m\n\u001B[1;32m   (...)\u001B[0m\n\u001B[0;32m     12\u001B[0m     tf\u001B[38;5;241m.\u001B[39mkeras\u001B[38;5;241m.\u001B[39mlayers\u001B[38;5;241m.\u001B[39mDense(\u001B[38;5;241m1\u001B[39m, activation\u001B[38;5;241m=\u001B[39m\u001B[38;5;124m'\u001B[39m\u001B[38;5;124msigmoid\u001B[39m\u001B[38;5;124m'\u001B[39m)\n\u001B[0;32m     13\u001B[0m ])\n\u001B[1;32m---> 15\u001B[0m model\u001B[38;5;241m.\u001B[39mcompile(optimizer\u001B[38;5;241m=\u001B[39m\u001B[38;5;124m'\u001B[39m\u001B[38;5;124madam\u001B[39m\u001B[38;5;124m'\u001B[39m, loss\u001B[38;5;241m=\u001B[39m\u001B[38;5;124m'\u001B[39m\u001B[38;5;124mbinary_crossentropy\u001B[39m\u001B[38;5;124m'\u001B[39m, metrics\u001B[38;5;241m=\u001B[39m[\u001B[38;5;124m'\u001B[39m\u001B[38;5;124maccuracy\u001B[39m\u001B[38;5;124m'\u001B[39m, \u001B[43mprecison\u001B[49m, specificity])\n",
      "\u001B[1;31mNameError\u001B[0m: name 'precison' is not defined"
     ]
    }
   ],
   "source": [
    "model = tf.keras.models.Sequential([\n",
    "    tf.keras.layers.Dense(100, activation='relu', input_shape=(X_train.shape[1],)),\n",
    "    # tf.keras.layers.Dropout(0.2),\n",
    "    tf.keras.layers.Dense(100, activation='relu'),\n",
    "    # tf.keras.layers.Dropout(0.2),\n",
    "    tf.keras.layers.Dense(100, activation='relu'),\n",
    "    # tf.keras.layers.Dropout(0.2),\n",
    "    tf.keras.layers.Dense(100, activation='relu'),\n",
    "    # tf.keras.layers.Dropout(0.2),\n",
    "    tf.keras.layers.Dense(100, activation='relu'),\n",
    "    # tf.keras.layers.Dropout(0.2),\n",
    "    tf.keras.layers.Dense(1, activation='sigmoid')\n",
    "])\n",
    "\n",
    "model.compile(optimizer='adam', loss='binary_crossentropy', metrics=['accuracy', precison, specificity])"
   ],
   "metadata": {
    "collapsed": false,
    "ExecuteTime": {
     "end_time": "2023-11-24T17:45:35.535567500Z",
     "start_time": "2023-11-24T17:45:35.488187Z"
    }
   }
  },
  {
   "cell_type": "code",
   "execution_count": 45,
   "outputs": [
    {
     "name": "stdout",
     "output_type": "stream",
     "text": [
      "21128/21128 [==============================] - 104s 5ms/step - loss: 0.1631 - accuracy: 0.9358 - precision_4: 0.9121 - specificity: 0.9078 - val_loss: 0.1332 - val_accuracy: 0.9491 - val_precision_4: 0.9198 - val_specificity: 0.9146\n"
     ]
    },
    {
     "data": {
      "text/plain": "<keras.callbacks.History at 0x18fc5c3c4f0>"
     },
     "execution_count": 45,
     "metadata": {},
     "output_type": "execute_result"
    }
   ],
   "source": [
    "model.fit(X_train, y_train, epochs=1, batch_size=32, validation_data=(X_test, y_test))"
   ],
   "metadata": {
    "collapsed": false,
    "ExecuteTime": {
     "end_time": "2023-11-24T17:44:36.708204100Z",
     "start_time": "2023-11-24T17:42:52.877443600Z"
    }
   }
  },
  {
   "cell_type": "code",
   "execution_count": 16,
   "outputs": [
    {
     "name": "stdout",
     "output_type": "stream",
     "text": [
      "276/276 [==============================] - 1s 3ms/step - loss: 0.2265 - accuracy: 0.9092 - precision_1: 0.8914 - specificity: 0.0000e+00\n"
     ]
    }
   ],
   "source": [
    "results = model.evaluate(X_test, y_test)"
   ],
   "metadata": {
    "collapsed": false,
    "ExecuteTime": {
     "end_time": "2023-11-24T17:25:21.509469400Z",
     "start_time": "2023-11-24T17:25:20.525122900Z"
    }
   }
  },
  {
   "cell_type": "code",
   "execution_count": 39,
   "outputs": [
    {
     "data": {
      "text/plain": "array([[80772,  4110],\n       [ 6018, 78122]], dtype=int64)"
     },
     "execution_count": 39,
     "metadata": {},
     "output_type": "execute_result"
    }
   ],
   "source": [
    "y_pred = model.predict(X_test)\n",
    "y_pred = (y_pred > 0.5).astype(\"int32\")\n",
    "cm = confusion_matrix(y_test, y_pred)\n",
    "cm"
   ],
   "metadata": {
    "collapsed": false,
    "ExecuteTime": {
     "end_time": "2023-11-24T17:36:34.374902100Z",
     "start_time": "2023-11-24T17:36:34.340871900Z"
    }
   }
  }
 ],
 "metadata": {
  "kernelspec": {
   "display_name": "Python 3",
   "language": "python",
   "name": "python3"
  },
  "language_info": {
   "codemirror_mode": {
    "name": "ipython",
    "version": 2
   },
   "file_extension": ".py",
   "mimetype": "text/x-python",
   "name": "python",
   "nbconvert_exporter": "python",
   "pygments_lexer": "ipython2",
   "version": "2.7.6"
  }
 },
 "nbformat": 4,
 "nbformat_minor": 0
}
