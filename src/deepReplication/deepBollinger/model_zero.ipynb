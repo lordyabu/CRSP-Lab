{
 "cells": [
  {
   "cell_type": "code",
   "execution_count": 1,
   "outputs": [
    {
     "name": "stdout",
     "output_type": "stream",
     "text": [
      "C:\\Users\\theal\\PycharmProjects\\ensembleLegends\\src\\deepReplication\\deepBollinger\n",
      "C:\\Users\\theal\\PycharmProjects\\ensembleLegends\n"
     ]
    }
   ],
   "source": [
    "import os\n",
    "print(os.getcwd())\n",
    "current_path = os.getcwd()\n",
    "current_path  = os.path.dirname(current_path)\n",
    "current_path = os.path.dirname(current_path)\n",
    "parent_path = os.path.dirname(current_path)\n",
    "os.chdir(parent_path)\n",
    "print(os.getcwd())"
   ],
   "metadata": {
    "collapsed": false,
    "ExecuteTime": {
     "end_time": "2023-12-01T00:06:24.780321100Z",
     "start_time": "2023-12-01T00:06:24.769831300Z"
    }
   }
  },
  {
   "cell_type": "code",
   "execution_count": 2,
   "metadata": {
    "collapsed": true,
    "ExecuteTime": {
     "end_time": "2023-12-01T00:06:28.039787100Z",
     "start_time": "2023-12-01T00:06:24.783323900Z"
    }
   },
   "outputs": [],
   "source": [
    "import pandas as pd\n",
    "import numpy as np\n",
    "import tensorflow as tf\n",
    "from sklearn.model_selection import train_test_split\n",
    "from keras.metrics import Precision, Recall\n",
    "from sklearn.metrics import confusion_matrix\n",
    "from src.config import DEEP_DATA_PATH\n",
    "from src.deepReplication.dataPreperation.dataCombining import combine_data\n",
    "from src.deepReplication.dataPreperation.scaling import scaling\n",
    "\n",
    "def specificity(y_true, y_pred, threshold=0.5):\n",
    "    y_pred_thresholded = tf.cast(y_pred > threshold, tf.bool)\n",
    "    y_true = tf.cast(y_true, tf.bool)\n",
    "\n",
    "    true_negatives = tf.reduce_sum(tf.cast(tf.logical_and(tf.logical_not(y_true), tf.logical_not(y_pred_thresholded)), dtype=tf.float32))\n",
    "    false_positives = tf.reduce_sum(tf.cast(tf.logical_and(tf.logical_not(y_true), y_pred_thresholded), dtype=tf.float32))\n",
    "\n",
    "    return true_negatives / (true_negatives + false_positives + tf.keras.backend.epsilon())\n",
    "\n",
    "\n",
    "precison = Precision()"
   ]
  },
  {
   "cell_type": "code",
   "execution_count": 5,
   "outputs": [],
   "source": [
    "num_prev_prices = 20\n",
    "\n",
    "running_data_preprocesing = \"Bollinger\"\n",
    "identifier = 'test2bollinger'\n",
    "\n",
    "split_to_do = \"34_33_33\""
   ],
   "metadata": {
    "collapsed": false,
    "ExecuteTime": {
     "end_time": "2023-12-01T00:07:36.004250100Z",
     "start_time": "2023-12-01T00:07:36.000246600Z"
    }
   }
  },
  {
   "cell_type": "code",
   "execution_count": 7,
   "outputs": [
    {
     "name": "stdout",
     "output_type": "stream",
     "text": [
      "350546\n",
      "350546\n"
     ]
    },
    {
     "name": "stderr",
     "output_type": "stream",
     "text": [
      "Scaling: 100%|████████████████████████████████████████████████████████████████| 697687/697687 [14:08<00:00, 822.05it/s]\n"
     ]
    }
   ],
   "source": [
    "if running_data_preprocesing == \"Bollinger\":\n",
    "    combine_data(base_name='deepBollinger', identifier=identifier, num_prev_prices=num_prev_prices, drop_nans=True, splits=split_to_do)\n",
    "    # combine_data(base_name='deepBollinger', identifier='test1bollinger', num_prev_prices=20, drop_nans=True)\n",
    "    scaling(base_name='Bollinger', identifier=identifier, num_prev_price=num_prev_prices, splits=split_to_do)\n",
    "\n",
    "if running_data_preprocesing == \"Turtle\":\n",
    "    combine_data(base_name='deepTurtle', strategy='turtle_naive', identifier=identifier, num_prev_prices=num_prev_prices, drop_nans=True)\n",
    "    scaling(base_name='Turtle', identifier=identifier, num_prev_price=num_prev_prices)\n",
    "\n",
    "if running_data_preprocesing == \"Box\":\n",
    "    combine_data(base_name='deepBox', strategy='box_naive', identifier=identifier, num_prev_prices=num_prev_prices, drop_nans=True)\n",
    "    scaling(base_name='Box', identifier=identifier, num_prev_price=num_prev_prices)"
   ],
   "metadata": {
    "collapsed": false,
    "ExecuteTime": {
     "end_time": "2023-12-01T00:23:01.826722Z",
     "start_time": "2023-12-01T00:08:16.445093600Z"
    }
   }
  },
  {
   "cell_type": "code",
   "execution_count": 10,
   "outputs": [],
   "source": [
    "path = os.path.join(DEEP_DATA_PATH, 'deepBollinger', f'{split_to_do}_scaled_combined_{identifier}_20100104_to_20201231_doctest_numP{num_prev_prices}.csv')\n",
    "# path = os.path.join(DEEP_DATA_PATH, 'deepTurtle', 'scaled_combined_turtle_naive_20100104_to_20201231_doctest.csv')\n",
    "# path = os.path.join(DEEP_DATA_PATH, 'deepBox', 'scaled_combined_box_naive_20100104_to_20201231_doctest.csv')\n",
    "\n",
    "df = pd.read_csv(path, low_memory=False)"
   ],
   "metadata": {
    "collapsed": false,
    "ExecuteTime": {
     "end_time": "2023-12-01T00:24:32.565971Z",
     "start_time": "2023-12-01T00:24:28.723182900Z"
    }
   }
  },
  {
   "cell_type": "code",
   "execution_count": 11,
   "outputs": [
    {
     "name": "stdout",
     "output_type": "stream",
     "text": [
      "0    350546\n",
      "1    347141\n",
      "Name: is_trade, dtype: int64\n"
     ]
    }
   ],
   "source": [
    "trade_counts = df['is_trade'].value_counts()\n",
    "print(trade_counts)"
   ],
   "metadata": {
    "collapsed": false,
    "ExecuteTime": {
     "end_time": "2023-12-01T00:24:33.384605700Z",
     "start_time": "2023-12-01T00:24:33.370266900Z"
    }
   }
  },
  {
   "cell_type": "code",
   "execution_count": 12,
   "outputs": [
    {
     "name": "stdout",
     "output_type": "stream",
     "text": [
      "0    70240\n",
      "1    69298\n",
      "dtype: int64\n"
     ]
    }
   ],
   "source": [
    "# Prepare input and target\n",
    "X = df[[f'PrevPrice_{i}' for i in range(num_prev_prices + 1)]].values\n",
    "y = df['is_trade'].values\n",
    "\n",
    "# Train-test split\n",
    "X_train, X_test, y_train, y_test = train_test_split(X, y, test_size=0.2, shuffle=True, random_state=42)\n",
    "\n",
    "series = pd.Series(y_test)\n",
    "trade_counts = series.value_counts()\n",
    "print(trade_counts)"
   ],
   "metadata": {
    "collapsed": false,
    "ExecuteTime": {
     "end_time": "2023-12-01T00:24:38.420657600Z",
     "start_time": "2023-12-01T00:24:37.864679800Z"
    }
   }
  },
  {
   "cell_type": "code",
   "execution_count": 13,
   "outputs": [],
   "source": [
    "model = tf.keras.models.Sequential([\n",
    "    tf.keras.layers.Dense(100, activation='relu', input_shape=(X_train.shape[1],)),\n",
    "    # tf.keras.layers.Dropout(0.2),\n",
    "    tf.keras.layers.Dense(100, activation='relu'),\n",
    "    # tf.keras.layers.Dropout(0.2),\n",
    "    tf.keras.layers.Dense(100, activation='relu'),\n",
    "    # tf.keras.layers.Dropout(0.2),\n",
    "    tf.keras.layers.Dense(100, activation='relu'),\n",
    "    # tf.keras.layers.Dropout(0.2),\n",
    "    tf.keras.layers.Dense(100, activation='relu'),\n",
    "    # tf.keras.layers.Dropout(0.2),\n",
    "    tf.keras.layers.Dense(1, activation='sigmoid')\n",
    "])\n",
    "\n",
    "model.compile(optimizer='adam', loss='binary_crossentropy', metrics=['accuracy', precison, specificity])"
   ],
   "metadata": {
    "collapsed": false,
    "ExecuteTime": {
     "end_time": "2023-12-01T00:24:40.837893300Z",
     "start_time": "2023-12-01T00:24:40.619705300Z"
    }
   }
  },
  {
   "cell_type": "code",
   "execution_count": 14,
   "outputs": [
    {
     "name": "stdout",
     "output_type": "stream",
     "text": [
      "Epoch 1/5\n",
      "17443/17443 [==============================] - 77s 4ms/step - loss: 0.1045 - accuracy: 0.9614 - precision: 0.9493 - specificity: 0.9485 - val_loss: 0.0746 - val_accuracy: 0.9740 - val_precision: 0.9572 - val_specificity: 0.9565\n",
      "Epoch 2/5\n",
      "17443/17443 [==============================] - 75s 4ms/step - loss: 0.0767 - accuracy: 0.9715 - precision: 0.9610 - specificity: 0.9606 - val_loss: 0.0722 - val_accuracy: 0.9718 - val_precision: 0.9716 - val_specificity: 0.9721\n",
      "Epoch 3/5\n",
      "17436/17443 [============================>.] - ETA: 0s - loss: 0.0691 - accuracy: 0.9742 - precision: 0.9643 - specificity: 0.9640"
     ]
    },
    {
     "name": "stderr",
     "output_type": "stream",
     "text": [
      "\n",
      "KeyboardInterrupt\n",
      "\n"
     ]
    }
   ],
   "source": [
    "model.fit(X_train, y_train, epochs=5, batch_size=32, validation_data=(X_test, y_test))"
   ],
   "metadata": {
    "collapsed": false,
    "ExecuteTime": {
     "end_time": "2023-12-01T00:28:30.692232600Z",
     "start_time": "2023-12-01T00:24:41.444738Z"
    }
   }
  },
  {
   "cell_type": "code",
   "execution_count": 9,
   "outputs": [
    {
     "name": "stdout",
     "output_type": "stream",
     "text": [
      "1561/1561 [==============================] - 4s 2ms/step - loss: 0.1423 - accuracy: 0.9428 - precision: 0.9313 - specificity: 0.9305\n"
     ]
    }
   ],
   "source": [
    "results = model.evaluate(X_test, y_test)"
   ],
   "metadata": {
    "collapsed": false,
    "ExecuteTime": {
     "end_time": "2023-11-30T22:52:22.887735100Z",
     "start_time": "2023-11-30T22:52:19.165044700Z"
    }
   }
  },
  {
   "cell_type": "code",
   "execution_count": 15,
   "outputs": [
    {
     "data": {
      "text/plain": "array([[67538,  2702],\n       [  460, 68838]], dtype=int64)"
     },
     "execution_count": 15,
     "metadata": {},
     "output_type": "execute_result"
    }
   ],
   "source": [
    "y_pred = model.predict(X_test)\n",
    "y_pred = (y_pred > 0.5).astype(\"int32\")\n",
    "cm = confusion_matrix(y_test, y_pred)\n",
    "cm"
   ],
   "metadata": {
    "collapsed": false,
    "ExecuteTime": {
     "end_time": "2023-12-01T00:28:34.859843900Z",
     "start_time": "2023-12-01T00:28:32.475295400Z"
    }
   }
  },
  {
   "cell_type": "code",
   "execution_count": 26,
   "outputs": [],
   "source": [
    "# 1 if X_test[0] == 1 or X_test[0] == 0\n",
    "\n",
    "def naive_model(X_test, y_test):\n",
    "    preds = []\n",
    "    for x in X_test:\n",
    "        if float(x[0]) > .9 or float(x[0] < .1):\n",
    "            preds.append(1)\n",
    "        else:\n",
    "            preds.append(0)\n",
    "\n",
    "    # Calculate confusion matrix\n",
    "    tn, fp, fn, tp = confusion_matrix(y_test, preds).ravel()\n",
    "\n",
    "    # Calculate metrics\n",
    "    accuracy = (tp + tn) / (tp + tn + fp + fn)\n",
    "    precision = tp / (tp + fp) if tp + fp != 0 else 0\n",
    "    specificity = tn / (tn + fp) if tn + fp != 0 else 0\n",
    "    recall = tp / (tp + fn) if tp + fn != 0 else 0  # Added recall calculation\n",
    "\n",
    "    return accuracy, precision, specificity, recall\n",
    "\n",
    "\n"
   ],
   "metadata": {
    "collapsed": false,
    "ExecuteTime": {
     "end_time": "2023-12-01T00:42:47.920786100Z",
     "start_time": "2023-12-01T00:42:47.913279700Z"
    }
   }
  },
  {
   "cell_type": "code",
   "execution_count": 27,
   "outputs": [],
   "source": [
    "acc, prec, spec, recall = naive_model(X_test, y_test)"
   ],
   "metadata": {
    "collapsed": false,
    "ExecuteTime": {
     "end_time": "2023-12-01T00:42:48.321630300Z",
     "start_time": "2023-12-01T00:42:48.205531Z"
    }
   }
  },
  {
   "cell_type": "code",
   "execution_count": 28,
   "outputs": [
    {
     "name": "stdout",
     "output_type": "stream",
     "text": [
      "0.806038498473534 0.7281311107029806 0.6417283599088838 0.9725821813039337\n"
     ]
    }
   ],
   "source": [
    "print(acc, prec, spec, recall)"
   ],
   "metadata": {
    "collapsed": false,
    "ExecuteTime": {
     "end_time": "2023-12-01T00:42:48.542820700Z",
     "start_time": "2023-12-01T00:42:48.523304300Z"
    }
   }
  },
  {
   "cell_type": "code",
   "execution_count": null,
   "outputs": [],
   "source": [
    "Epoch 1/5\n",
    "6244/6244 [==============================] - 28s 4ms/step - loss: 0.2143 - accuracy: 0.9113 - precision: 0.8810 - specificity: 0.8728 - val_loss: 0.1593 - val_accuracy: 0.9390 - val_precision: 0.9093 - val_specificity: 0.9047\n",
    "\n",
    "6244/6244 [==============================] - 27s 4ms/step - loss: 0.1228 - accuracy: 0.9534 - precision: 0.9344 - specificity: 0.9323 - val_loss: 0.1253 - val_accuracy: 0.9538 - val_precision: 0.9314 - val_specificity: 0.9294\n",
    "\n",
    "0.6597124894886477 0.7761268306554813 0.874950361369232 0.4408415441770312"
   ],
   "metadata": {
    "collapsed": false
   }
  }
 ],
 "metadata": {
  "kernelspec": {
   "display_name": "Python 3",
   "language": "python",
   "name": "python3"
  },
  "language_info": {
   "codemirror_mode": {
    "name": "ipython",
    "version": 2
   },
   "file_extension": ".py",
   "mimetype": "text/x-python",
   "name": "python",
   "nbconvert_exporter": "python",
   "pygments_lexer": "ipython2",
   "version": "2.7.6"
  }
 },
 "nbformat": 4,
 "nbformat_minor": 0
}
