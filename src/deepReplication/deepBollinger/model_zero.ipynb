{
 "cells": [
  {
   "cell_type": "code",
   "execution_count": 1,
   "outputs": [
    {
     "name": "stdout",
     "output_type": "stream",
     "text": [
      "C:\\Users\\theal\\PycharmProjects\\ensembleLegends\\src\\deepReplication\\deepBollinger\n",
      "C:\\Users\\theal\\PycharmProjects\\ensembleLegends\n"
     ]
    }
   ],
   "source": [
    "import os\n",
    "print(os.getcwd())\n",
    "current_path = os.getcwd()\n",
    "current_path  = os.path.dirname(current_path)\n",
    "current_path = os.path.dirname(current_path)\n",
    "parent_path = os.path.dirname(current_path)\n",
    "os.chdir(parent_path)\n",
    "print(os.getcwd())"
   ],
   "metadata": {
    "collapsed": false,
    "ExecuteTime": {
     "end_time": "2023-11-30T22:49:59.792866500Z",
     "start_time": "2023-11-30T22:49:59.782853200Z"
    }
   }
  },
  {
   "cell_type": "code",
   "execution_count": 2,
   "metadata": {
    "collapsed": true,
    "ExecuteTime": {
     "end_time": "2023-11-30T22:50:03.175645400Z",
     "start_time": "2023-11-30T22:49:59.796368500Z"
    }
   },
   "outputs": [],
   "source": [
    "import pandas as pd\n",
    "import numpy as np\n",
    "import tensorflow as tf\n",
    "from sklearn.model_selection import train_test_split\n",
    "from keras.metrics import Precision, Recall\n",
    "from sklearn.metrics import confusion_matrix\n",
    "from src.config import DEEP_DATA_PATH\n",
    "from src.deepReplication.dataPreperation.dataCombining import combine_data\n",
    "from src.deepReplication.dataPreperation.scaling import scaling\n",
    "\n",
    "def specificity(y_true, y_pred, threshold=0.5):\n",
    "    y_pred_thresholded = tf.cast(y_pred > threshold, tf.bool)\n",
    "    y_true = tf.cast(y_true, tf.bool)\n",
    "\n",
    "    true_negatives = tf.reduce_sum(tf.cast(tf.logical_and(tf.logical_not(y_true), tf.logical_not(y_pred_thresholded)), dtype=tf.float32))\n",
    "    false_positives = tf.reduce_sum(tf.cast(tf.logical_and(tf.logical_not(y_true), y_pred_thresholded), dtype=tf.float32))\n",
    "\n",
    "    return true_negatives / (true_negatives + false_positives + tf.keras.backend.epsilon())\n",
    "\n",
    "\n",
    "precison = Precision()"
   ]
  },
  {
   "cell_type": "code",
   "execution_count": 3,
   "outputs": [],
   "source": [
    "num_prev_prices = 20\n",
    "\n",
    "running_data_preprocesing = \"Bollinger\"\n",
    "\n",
    "split_to_do = \"80_10_10\""
   ],
   "metadata": {
    "collapsed": false,
    "ExecuteTime": {
     "end_time": "2023-11-30T22:50:03.191160400Z",
     "start_time": "2023-11-30T22:50:03.176145900Z"
    }
   }
  },
  {
   "cell_type": "code",
   "execution_count": 43,
   "outputs": [
    {
     "name": "stdout",
     "output_type": "stream",
     "text": [
      "125554\n",
      "125554\n"
     ]
    },
    {
     "name": "stderr",
     "output_type": "stream",
     "text": [
      "Scaling: 100%|████████████████████████████████████████████████████████████████| 249726/249726 [04:39<00:00, 893.88it/s]\n"
     ]
    }
   ],
   "source": [
    "if running_data_preprocesing == \"Bollinger\":\n",
    "    combine_data(base_name='deepBollinger', strategy='bollinger_naive_dynamic_sl', identifier='test1bollinger', num_prev_prices=num_prev_prices, drop_nans=True, splits=split_to_do)\n",
    "    # combine_data(base_name='deepBollinger', identifier='test1bollinger', num_prev_prices=20, drop_nans=True)\n",
    "    scaling(base_name='Bollinger', strategy='bollinger_naive_dynamic_sl', num_prev_price=num_prev_prices, splits=split_to_do)\n",
    "\n",
    "if running_data_preprocesing == \"Turtle\":\n",
    "    combine_data(base_name='deepTurtle', strategy='turtle_naive', identifier='test1turtles', num_prev_prices=num_prev_prices, drop_nans=True)\n",
    "    scaling(base_name='Turtle', strategy='turtle_naive', num_prev_price=num_prev_prices)\n",
    "\n",
    "if running_data_preprocesing == \"Box\":\n",
    "    combine_data(base_name='deepBox', strategy='box_naive', identifier='test1box', num_prev_prices=num_prev_prices, drop_nans=True)\n",
    "    scaling(base_name='Box', strategy='box_naive', num_prev_price=num_prev_prices)"
   ],
   "metadata": {
    "collapsed": false,
    "ExecuteTime": {
     "end_time": "2023-11-30T22:45:21.342009100Z",
     "start_time": "2023-11-30T22:40:26.567986700Z"
    }
   }
  },
  {
   "cell_type": "code",
   "execution_count": 4,
   "outputs": [],
   "source": [
    "path = os.path.join(DEEP_DATA_PATH, 'deepBollinger', f'{split_to_do}_scaled_combined_bollinger_naive_dynamic_sl_20100104_to_20201231_doctest_numP{num_prev_prices}.csv')\n",
    "# path = os.path.join(DEEP_DATA_PATH, 'deepTurtle', 'scaled_combined_turtle_naive_20100104_to_20201231_doctest.csv')\n",
    "# path = os.path.join(DEEP_DATA_PATH, 'deepBox', 'scaled_combined_box_naive_20100104_to_20201231_doctest.csv')\n",
    "\n",
    "df = pd.read_csv(path, low_memory=False)"
   ],
   "metadata": {
    "collapsed": false,
    "ExecuteTime": {
     "end_time": "2023-11-30T22:50:04.524801800Z",
     "start_time": "2023-11-30T22:50:03.191160400Z"
    }
   }
  },
  {
   "cell_type": "code",
   "execution_count": 5,
   "outputs": [
    {
     "name": "stdout",
     "output_type": "stream",
     "text": [
      "0    125554\n",
      "1    124172\n",
      "Name: is_trade, dtype: int64\n"
     ]
    }
   ],
   "source": [
    "trade_counts = df['is_trade'].value_counts()\n",
    "print(trade_counts)"
   ],
   "metadata": {
    "collapsed": false,
    "ExecuteTime": {
     "end_time": "2023-11-30T22:50:04.540317100Z",
     "start_time": "2023-11-30T22:50:04.526803500Z"
    }
   }
  },
  {
   "cell_type": "code",
   "execution_count": 6,
   "outputs": [
    {
     "name": "stdout",
     "output_type": "stream",
     "text": [
      "0    25182\n",
      "1    24764\n",
      "dtype: int64\n"
     ]
    }
   ],
   "source": [
    "# Prepare input and target\n",
    "X = df[[f'PrevPrice_{i}' for i in range(num_prev_prices + 1)]].values\n",
    "y = df['is_trade'].values\n",
    "\n",
    "# Train-test split\n",
    "X_train, X_test, y_train, y_test = train_test_split(X, y, test_size=0.2, shuffle=True, random_state=42)\n",
    "\n",
    "series = pd.Series(y_test)\n",
    "trade_counts = series.value_counts()\n",
    "print(trade_counts)"
   ],
   "metadata": {
    "collapsed": false,
    "ExecuteTime": {
     "end_time": "2023-11-30T22:50:04.601862300Z",
     "start_time": "2023-11-30T22:50:04.540317100Z"
    }
   }
  },
  {
   "cell_type": "code",
   "execution_count": 7,
   "outputs": [],
   "source": [
    "model = tf.keras.models.Sequential([\n",
    "    tf.keras.layers.Dense(100, activation='relu', input_shape=(X_train.shape[1],)),\n",
    "    # tf.keras.layers.Dropout(0.2),\n",
    "    tf.keras.layers.Dense(100, activation='relu'),\n",
    "    # tf.keras.layers.Dropout(0.2),\n",
    "    tf.keras.layers.Dense(100, activation='relu'),\n",
    "    # tf.keras.layers.Dropout(0.2),\n",
    "    tf.keras.layers.Dense(100, activation='relu'),\n",
    "    # tf.keras.layers.Dropout(0.2),\n",
    "    tf.keras.layers.Dense(100, activation='relu'),\n",
    "    # tf.keras.layers.Dropout(0.2),\n",
    "    tf.keras.layers.Dense(1, activation='sigmoid')\n",
    "])\n",
    "\n",
    "model.compile(optimizer='adam', loss='binary_crossentropy', metrics=['accuracy', precison, specificity])"
   ],
   "metadata": {
    "collapsed": false,
    "ExecuteTime": {
     "end_time": "2023-11-30T22:50:04.726469500Z",
     "start_time": "2023-11-30T22:50:04.603864700Z"
    }
   }
  },
  {
   "cell_type": "code",
   "execution_count": 8,
   "outputs": [
    {
     "name": "stdout",
     "output_type": "stream",
     "text": [
      "Epoch 1/5\n",
      "6244/6244 [==============================] - 26s 4ms/step - loss: 0.2525 - accuracy: 0.8905 - precision: 0.8633 - specificity: 0.8546 - val_loss: 0.2722 - val_accuracy: 0.8874 - val_precision: 0.8568 - val_specificity: 0.8472\n",
      "Epoch 2/5\n",
      "6244/6244 [==============================] - 26s 4ms/step - loss: 0.1871 - accuracy: 0.9251 - precision: 0.9020 - specificity: 0.8972 - val_loss: 0.1853 - val_accuracy: 0.9293 - val_precision: 0.9022 - val_specificity: 0.8972\n",
      "Epoch 3/5\n",
      "6244/6244 [==============================] - 27s 4ms/step - loss: 0.1674 - accuracy: 0.9327 - precision: 0.9110 - specificity: 0.9073 - val_loss: 0.1505 - val_accuracy: 0.9401 - val_precision: 0.9077 - val_specificity: 0.9016\n",
      "Epoch 4/5\n",
      "6244/6244 [==============================] - 27s 4ms/step - loss: 0.1563 - accuracy: 0.9379 - precision: 0.9170 - specificity: 0.9132 - val_loss: 0.1577 - val_accuracy: 0.9354 - val_precision: 0.9159 - val_specificity: 0.9129\n",
      "Epoch 5/5\n",
      "6244/6244 [==============================] - 27s 4ms/step - loss: 0.1500 - accuracy: 0.9408 - precision: 0.9207 - specificity: 0.9175 - val_loss: 0.1423 - val_accuracy: 0.9428 - val_precision: 0.9313 - val_specificity: 0.9305\n"
     ]
    },
    {
     "data": {
      "text/plain": "<keras.callbacks.History at 0x2536765fdc0>"
     },
     "execution_count": 8,
     "metadata": {},
     "output_type": "execute_result"
    }
   ],
   "source": [
    "model.fit(X_train, y_train, epochs=5, batch_size=32, validation_data=(X_test, y_test))"
   ],
   "metadata": {
    "collapsed": false,
    "ExecuteTime": {
     "end_time": "2023-11-30T22:52:19.164544300Z",
     "start_time": "2023-11-30T22:50:04.726969800Z"
    }
   }
  },
  {
   "cell_type": "code",
   "execution_count": 9,
   "outputs": [
    {
     "name": "stdout",
     "output_type": "stream",
     "text": [
      "1561/1561 [==============================] - 4s 2ms/step - loss: 0.1423 - accuracy: 0.9428 - precision: 0.9313 - specificity: 0.9305\n"
     ]
    }
   ],
   "source": [
    "results = model.evaluate(X_test, y_test)"
   ],
   "metadata": {
    "collapsed": false,
    "ExecuteTime": {
     "end_time": "2023-11-30T22:52:22.887735100Z",
     "start_time": "2023-11-30T22:52:19.165044700Z"
    }
   }
  },
  {
   "cell_type": "code",
   "execution_count": 10,
   "outputs": [
    {
     "data": {
      "text/plain": "array([[23437,  1745],\n       [ 1114, 23650]], dtype=int64)"
     },
     "execution_count": 10,
     "metadata": {},
     "output_type": "execute_result"
    }
   ],
   "source": [
    "y_pred = model.predict(X_test)\n",
    "y_pred = (y_pred > 0.5).astype(\"int32\")\n",
    "cm = confusion_matrix(y_test, y_pred)\n",
    "cm"
   ],
   "metadata": {
    "collapsed": false,
    "ExecuteTime": {
     "end_time": "2023-11-30T22:52:23.678915300Z",
     "start_time": "2023-11-30T22:52:22.888235Z"
    }
   }
  },
  {
   "cell_type": "code",
   "execution_count": 11,
   "outputs": [],
   "source": [
    "# 1 if X_test[0] == 1 or X_test[0] == 0\n",
    "\n",
    "def naive_model(X_test, y_test):\n",
    "    preds = []\n",
    "    for x in X_test:\n",
    "        if float(x[0]) == 1:\n",
    "            preds.append(1)\n",
    "        else:\n",
    "            preds.append(0)\n",
    "\n",
    "    # Calculate confusion matrix\n",
    "    tn, fp, fn, tp = confusion_matrix(y_test, preds).ravel()\n",
    "\n",
    "    # Calculate metrics\n",
    "    accuracy = (tp + tn) / (tp + tn + fp + fn)\n",
    "    precision = tp / (tp + fp) if tp + fp != 0 else 0\n",
    "    specificity = tn / (tn + fp) if tn + fp != 0 else 0\n",
    "    recall = tp / (tp + fn) if tp + fn != 0 else 0  # Added recall calculation\n",
    "\n",
    "    return accuracy, precision, specificity, recall\n",
    "\n",
    "\n"
   ],
   "metadata": {
    "collapsed": false,
    "ExecuteTime": {
     "end_time": "2023-11-30T22:52:23.697424100Z",
     "start_time": "2023-11-30T22:52:23.679415100Z"
    }
   }
  },
  {
   "cell_type": "code",
   "execution_count": 15,
   "outputs": [],
   "source": [
    "acc, prec, spec, recall = naive_model(X_test, y_test)"
   ],
   "metadata": {
    "collapsed": false,
    "ExecuteTime": {
     "end_time": "2023-11-30T22:53:24.506903600Z",
     "start_time": "2023-11-30T22:53:24.471871200Z"
    }
   }
  },
  {
   "cell_type": "code",
   "execution_count": 16,
   "outputs": [
    {
     "name": "stdout",
     "output_type": "stream",
     "text": [
      "0.6445761422336123 0.7365402779651868 0.8449289174807402 0.4408415441770312\n"
     ]
    }
   ],
   "source": [
    "print(acc, prec, spec, recall)"
   ],
   "metadata": {
    "collapsed": false,
    "ExecuteTime": {
     "end_time": "2023-11-30T22:53:24.693098700Z",
     "start_time": "2023-11-30T22:53:24.681082800Z"
    }
   }
  },
  {
   "cell_type": "code",
   "execution_count": null,
   "outputs": [],
   "source": [
    "Epoch 1/5\n",
    "6244/6244 [==============================] - 28s 4ms/step - loss: 0.2143 - accuracy: 0.9113 - precision: 0.8810 - specificity: 0.8728 - val_loss: 0.1593 - val_accuracy: 0.9390 - val_precision: 0.9093 - val_specificity: 0.9047\n",
    "\n",
    "6244/6244 [==============================] - 27s 4ms/step - loss: 0.1228 - accuracy: 0.9534 - precision: 0.9344 - specificity: 0.9323 - val_loss: 0.1253 - val_accuracy: 0.9538 - val_precision: 0.9314 - val_specificity: 0.9294\n",
    "\n",
    "0.6597124894886477 0.7761268306554813 0.874950361369232 0.4408415441770312"
   ],
   "metadata": {
    "collapsed": false
   }
  }
 ],
 "metadata": {
  "kernelspec": {
   "display_name": "Python 3",
   "language": "python",
   "name": "python3"
  },
  "language_info": {
   "codemirror_mode": {
    "name": "ipython",
    "version": 2
   },
   "file_extension": ".py",
   "mimetype": "text/x-python",
   "name": "python",
   "nbconvert_exporter": "python",
   "pygments_lexer": "ipython2",
   "version": "2.7.6"
  }
 },
 "nbformat": 4,
 "nbformat_minor": 0
}
