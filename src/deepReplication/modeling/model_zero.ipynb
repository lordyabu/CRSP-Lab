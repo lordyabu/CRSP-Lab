{
 "cells": [
  {
   "cell_type": "code",
   "execution_count": 1,
   "outputs": [
    {
     "name": "stdout",
     "output_type": "stream",
     "text": [
      "C:\\Users\\theal\\PycharmProjects\\ensembleLegends\\src\\deepReplication\\deepBollinger\n",
      "C:\\Users\\theal\\PycharmProjects\\ensembleLegends\n"
     ]
    }
   ],
   "source": [
    "import os\n",
    "print(os.getcwd())\n",
    "current_path = os.getcwd()\n",
    "current_path  = os.path.dirname(current_path)\n",
    "current_path = os.path.dirname(current_path)\n",
    "parent_path = os.path.dirname(current_path)\n",
    "os.chdir(parent_path)\n",
    "print(os.getcwd())"
   ],
   "metadata": {
    "collapsed": false,
    "ExecuteTime": {
     "end_time": "2023-12-02T21:17:25.674752300Z",
     "start_time": "2023-12-02T21:17:25.663242600Z"
    }
   }
  },
  {
   "cell_type": "code",
   "execution_count": 157,
   "metadata": {
    "collapsed": true,
    "ExecuteTime": {
     "end_time": "2023-12-03T02:24:55.062674600Z",
     "start_time": "2023-12-03T02:24:55.042156100Z"
    }
   },
   "outputs": [],
   "source": [
    "import pandas as pd\n",
    "import numpy as np\n",
    "import tensorflow as tf\n",
    "from sklearn.model_selection import train_test_split\n",
    "from keras.metrics import Precision, Recall\n",
    "from sklearn.metrics import confusion_matrix\n",
    "from src.config import DEEP_DATA_PATH\n",
    "import datetime\n",
    "from src.deepReplication.dataPreperation.dataCombining import combine_data\n",
    "from src.deepReplication.dataPreperation.scaling import scaling\n",
    "\n",
    "def specificity(y_true, y_pred, threshold=0.5):\n",
    "    y_pred_thresholded = tf.cast(y_pred > threshold, tf.bool)\n",
    "    y_true = tf.cast(y_true, tf.bool)\n",
    "\n",
    "    true_negatives = tf.reduce_sum(tf.cast(tf.logical_and(tf.logical_not(y_true), tf.logical_not(y_pred_thresholded)), dtype=tf.float32))\n",
    "    false_positives = tf.reduce_sum(tf.cast(tf.logical_and(tf.logical_not(y_true), y_pred_thresholded), dtype=tf.float32))\n",
    "\n",
    "    return true_negatives / (true_negatives + false_positives + tf.keras.backend.epsilon())\n",
    "\n",
    "def recall(y_true, y_pred, threshold=0.5):\n",
    "    y_pred_thresholded = tf.cast(y_pred > threshold, tf.bool)\n",
    "    y_true = tf.cast(y_true, tf.bool)\n",
    "\n",
    "    true_positives = tf.reduce_sum(tf.cast(tf.logical_and(y_true, y_pred_thresholded), dtype=tf.float32))\n",
    "    false_negatives = tf.reduce_sum(tf.cast(tf.logical_and(y_true, tf.logical_not(y_pred_thresholded)), dtype=tf.float32))\n",
    "\n",
    "    return true_positives / (true_positives + false_negatives + tf.keras.backend.epsilon())\n",
    "\n",
    "\n",
    "precison = Precision()"
   ]
  },
  {
   "cell_type": "code",
   "execution_count": 158,
   "outputs": [],
   "source": [
    "# Current time for unique folder names\n",
    "current_time = datetime.datetime.now().strftime(\"%Y%m%d-%H%M%S\")\n",
    "\n",
    "# Subdirectory for the current training run\n",
    "log_dir = \"logs/fit/\" + current_time  # E.g., logs/fit/20230315-123456\n",
    "\n",
    "# Create a TensorBoard callback\n",
    "tensorboard_callback = tf.keras.callbacks.TensorBoard(log_dir=log_dir, histogram_freq=1)"
   ],
   "metadata": {
    "collapsed": false,
    "ExecuteTime": {
     "end_time": "2023-12-03T02:24:55.387452600Z",
     "start_time": "2023-12-03T02:24:55.368936700Z"
    }
   }
  },
  {
   "cell_type": "code",
   "execution_count": 159,
   "outputs": [],
   "source": [
    "num_prev_prices = 20\n",
    "\n",
    "running_data_preprocesing = \"Box\"\n",
    "identifier = 'test1box'\n",
    "\n",
    "split_to_do = \"34_33_33\""
   ],
   "metadata": {
    "collapsed": false,
    "ExecuteTime": {
     "end_time": "2023-12-03T02:24:55.540584500Z",
     "start_time": "2023-12-03T02:24:55.531577400Z"
    }
   }
  },
  {
   "cell_type": "code",
   "execution_count": 160,
   "outputs": [],
   "source": [
    "# if running_data_preprocesing == \"Bollinger\":\n",
    "#     combine_data(base_name='deepBollinger', identifier=identifier, num_prev_prices=num_prev_prices, drop_nans=True, splits=split_to_do)\n",
    "#     # combine_data(base_name='deepBollinger', identifier='test1bollinger', num_prev_prices=20, drop_nans=True)\n",
    "#     scaling(base_name='Bollinger', identifier=identifier, num_prev_price=num_prev_prices, splits=split_to_do)\n",
    "#\n",
    "# if running_data_preprocesing == \"Turtle\":\n",
    "#     combine_data(base_name='deepTurtle', strategy='turtle_naive', identifier=identifier, num_prev_prices=num_prev_prices, drop_nans=True)\n",
    "#     scaling(base_name='Turtle', identifier=identifier, num_prev_price=num_prev_prices)\n",
    "#\n",
    "# if running_data_preprocesing == \"Box\":\n",
    "#     combine_data(base_name='deepBox', strategy='box_naive', identifier=identifier, num_prev_prices=num_prev_prices, drop_nans=True)\n",
    "#     scaling(base_name='Box', identifier=identifier, num_prev_price=num_prev_prices)"
   ],
   "metadata": {
    "collapsed": false,
    "ExecuteTime": {
     "end_time": "2023-12-03T02:24:55.713233Z",
     "start_time": "2023-12-03T02:24:55.703223800Z"
    }
   }
  },
  {
   "cell_type": "code",
   "execution_count": 161,
   "outputs": [],
   "source": [
    "path = os.path.join(DEEP_DATA_PATH, f'deep{running_data_preprocesing}', f'tst{split_to_do}_scaled_combined_{identifier}_20100104_to_20201231_doctest2_numP{num_prev_prices}.csv')\n",
    "# path = os.path.join(DEEP_DATA_PATH, 'deepTurtle', 'scaled_combined_turtle_naive_20100104_to_20201231_doctest.csv')\n",
    "# path = os.path.join(DEEP_DATA_PATH, 'deepBox', 'scaled_combined_box_naive_20100104_to_20201231_doctest.csv')\n",
    "\n",
    "df = pd.read_csv(path, low_memory=False)"
   ],
   "metadata": {
    "collapsed": false,
    "ExecuteTime": {
     "end_time": "2023-12-03T02:24:56.162118800Z",
     "start_time": "2023-12-03T02:24:55.873870500Z"
    }
   }
  },
  {
   "cell_type": "code",
   "execution_count": 162,
   "outputs": [
    {
     "name": "stdout",
     "output_type": "stream",
     "text": [
      "0    22129\n",
      "1    21966\n",
      "Name: is_trade, dtype: int64\n"
     ]
    }
   ],
   "source": [
    "trade_counts = df['is_trade'].value_counts()\n",
    "print(trade_counts)"
   ],
   "metadata": {
    "collapsed": false,
    "ExecuteTime": {
     "end_time": "2023-12-03T02:24:56.425344600Z",
     "start_time": "2023-12-03T02:24:56.408830Z"
    }
   }
  },
  {
   "cell_type": "code",
   "execution_count": 163,
   "outputs": [
    {
     "name": "stdout",
     "output_type": "stream",
     "text": [
      "0    4422\n",
      "1    4397\n",
      "dtype: int64\n"
     ]
    }
   ],
   "source": [
    "# Prepare input and target\n",
    "X = df[[f'PrevPrice_{i}' for i in range(num_prev_prices + 1)]].values\n",
    "y = df['is_trade'].values\n",
    "\n",
    "# Train-test split\n",
    "X_train, X_test, y_train, y_test = train_test_split(X, y, test_size=0.2, shuffle=False, random_state=42)\n",
    "\n",
    "series = pd.Series(y_test)\n",
    "trade_counts = series.value_counts()\n",
    "print(trade_counts)"
   ],
   "metadata": {
    "collapsed": false,
    "ExecuteTime": {
     "end_time": "2023-12-03T02:24:56.984824700Z",
     "start_time": "2023-12-03T02:24:56.958802500Z"
    }
   }
  },
  {
   "cell_type": "code",
   "execution_count": 164,
   "outputs": [],
   "source": [
    "model = tf.keras.models.Sequential([\n",
    "    tf.keras.layers.Dense(100, activation='relu', input_shape=(X_train.shape[1],)),\n",
    "    tf.keras.layers.Dropout(0.1),\n",
    "    tf.keras.layers.Dense(100, activation='relu'),\n",
    "    tf.keras.layers.Dropout(0.1),\n",
    "    tf.keras.layers.Dense(100, activation='relu'),\n",
    "    tf.keras.layers.Dropout(0.1),\n",
    "    tf.keras.layers.Dense(100, activation='relu'),\n",
    "    tf.keras.layers.Dropout(0.1),\n",
    "    tf.keras.layers.Dense(100, activation='relu'),\n",
    "    tf.keras.layers.Dropout(0.1),\n",
    "    tf.keras.layers.Dense(1, activation='sigmoid')\n",
    "])\n",
    "\n",
    "model.compile(optimizer='adam', loss='binary_crossentropy', metrics=['accuracy', precison, specificity, recall])"
   ],
   "metadata": {
    "collapsed": false,
    "ExecuteTime": {
     "end_time": "2023-12-03T02:24:57.573831500Z",
     "start_time": "2023-12-03T02:24:57.522286700Z"
    }
   }
  },
  {
   "cell_type": "code",
   "execution_count": 165,
   "outputs": [
    {
     "name": "stdout",
     "output_type": "stream",
     "text": [
      "1103/1103 [==============================] - 12s 10ms/step - loss: 0.4299 - accuracy: 0.7937 - precision_7: 0.7687 - specificity: 0.7513 - recall: 0.8376 - val_loss: 0.3401 - val_accuracy: 0.8542 - val_precision_7: 0.8215 - val_specificity: 0.7862 - val_recall: 0.9025\n"
     ]
    },
    {
     "data": {
      "text/plain": "<keras.callbacks.History at 0x2aa6a81f850>"
     },
     "execution_count": 165,
     "metadata": {},
     "output_type": "execute_result"
    }
   ],
   "source": [
    "model.fit(X_train, y_train, epochs=1, batch_size=32, validation_data=(X_test, y_test))"
   ],
   "metadata": {
    "collapsed": false,
    "ExecuteTime": {
     "end_time": "2023-12-03T02:25:10.806197700Z",
     "start_time": "2023-12-03T02:24:58.575691400Z"
    }
   }
  },
  {
   "cell_type": "code",
   "execution_count": 166,
   "outputs": [
    {
     "name": "stdout",
     "output_type": "stream",
     "text": [
      "276/276 [==============================] - 1s 3ms/step - loss: 0.3401 - accuracy: 0.8542 - precision_7: 0.8215 - specificity: 0.7862 - recall: 0.9025\n"
     ]
    }
   ],
   "source": [
    "results = model.evaluate(X_test, y_test)"
   ],
   "metadata": {
    "collapsed": false,
    "ExecuteTime": {
     "end_time": "2023-12-03T02:25:11.768524600Z",
     "start_time": "2023-12-03T02:25:10.806698100Z"
    }
   }
  },
  {
   "cell_type": "code",
   "execution_count": 167,
   "outputs": [
    {
     "name": "stdout",
     "output_type": "stream",
     "text": [
      "0.8541784882545471\n"
     ]
    }
   ],
   "source": [
    "print(results[1])"
   ],
   "metadata": {
    "collapsed": false,
    "ExecuteTime": {
     "end_time": "2023-12-03T02:25:11.811561Z",
     "start_time": "2023-12-03T02:25:11.767524200Z"
    }
   }
  },
  {
   "cell_type": "code",
   "execution_count": 168,
   "outputs": [
    {
     "name": "stdout",
     "output_type": "stream",
     "text": [
      "[[3558  864]\n",
      " [ 422 3975]]\n"
     ]
    }
   ],
   "source": [
    "y_pred = model.predict(X_test)\n",
    "y_pred = (y_pred > 0.5).astype(\"int32\")\n",
    "cm = confusion_matrix(y_test, y_pred)\n",
    "print(cm)"
   ],
   "metadata": {
    "collapsed": false,
    "ExecuteTime": {
     "end_time": "2023-12-03T02:25:12.015236300Z",
     "start_time": "2023-12-03T02:25:11.785038500Z"
    }
   }
  },
  {
   "cell_type": "code",
   "execution_count": 169,
   "outputs": [],
   "source": [
    "# 1 if X_test[0] == 1 or X_test[0] == 0\n",
    "\n",
    "def naive_model(X_test, y_test):\n",
    "    preds = []\n",
    "    for x in X_test:\n",
    "        if float(x[0]) > .95 or float(x[0]) < .05:\n",
    "            preds.append(1)\n",
    "        else:\n",
    "            preds.append(0)\n",
    "\n",
    "    # Calculate confusion matrix\n",
    "    tn, fp, fn, tp = confusion_matrix(y_test, preds).ravel()\n",
    "\n",
    "    # Calculate metrics\n",
    "    accuracy = (tp + tn) / (tp + tn + fp + fn)\n",
    "    precision = tp / (tp + fp) if tp + fp != 0 else 0\n",
    "    specificity = tn / (tn + fp) if tn + fp != 0 else 0\n",
    "    recall = tp / (tp + fn) if tp + fn != 0 else 0  # Added recall calculation\n",
    "\n",
    "    return accuracy, precision, specificity, recall\n",
    "\n",
    "\n"
   ],
   "metadata": {
    "collapsed": false,
    "ExecuteTime": {
     "end_time": "2023-12-03T02:25:12.031249900Z",
     "start_time": "2023-12-03T02:25:12.015736700Z"
    }
   }
  },
  {
   "cell_type": "code",
   "execution_count": 170,
   "outputs": [],
   "source": [
    "acc, prec, spec, recall = naive_model(X_test, y_test)"
   ],
   "metadata": {
    "collapsed": false,
    "ExecuteTime": {
     "end_time": "2023-12-03T02:25:12.075287500Z",
     "start_time": "2023-12-03T02:25:12.030749400Z"
    }
   }
  },
  {
   "cell_type": "code",
   "execution_count": 171,
   "outputs": [
    {
     "name": "stdout",
     "output_type": "stream",
     "text": [
      "0.8009978455607212 0.7151465798045603 0.6044776119402985 0.9986354332499432\n"
     ]
    }
   ],
   "source": [
    "print(acc, prec, spec, recall)"
   ],
   "metadata": {
    "collapsed": false,
    "ExecuteTime": {
     "end_time": "2023-12-03T02:25:12.076788800Z",
     "start_time": "2023-12-03T02:25:12.046763200Z"
    }
   }
  },
  {
   "cell_type": "code",
   "execution_count": 172,
   "outputs": [
    {
     "name": "stdout",
     "output_type": "stream",
     "text": [
      "Accuracy: 0.8430661072683978\n",
      "Precision: 0.7651821862348178\n",
      "Recall (Sensitivity): 0.9886286104161929\n",
      "Specificity: 0.6983265490728178\n"
     ]
    }
   ],
   "source": [
    "from sklearn.naive_bayes import GaussianNB\n",
    "from sklearn.metrics import accuracy_score, precision_score, recall_score, confusion_matrix\n",
    "import numpy as np\n",
    "\n",
    "# Create a Gaussian Naive Bayes classifier\n",
    "nb_model = GaussianNB()\n",
    "\n",
    "# Train the model using the training sets\n",
    "nb_model.fit(X_train, y_train)\n",
    "\n",
    "# Predict on test set\n",
    "y_pred = nb_model.predict(X_test)\n",
    "\n",
    "# Accuracy\n",
    "accuracy = accuracy_score(y_test, y_pred)\n",
    "\n",
    "# Precision\n",
    "precision = precision_score(y_test, y_pred)\n",
    "\n",
    "# Recall\n",
    "recall = recall_score(y_test, y_pred)\n",
    "\n",
    "# Specificity\n",
    "tn, fp, fn, tp = confusion_matrix(y_test, y_pred).ravel()\n",
    "specificity = tn / (tn + fp)\n",
    "\n",
    "# Displaying the metrics\n",
    "print(f\"Accuracy: {accuracy}\")\n",
    "print(f\"Precision: {precision}\")\n",
    "print(f\"Recall (Sensitivity): {recall}\")\n",
    "print(f\"Specificity: {specificity}\")"
   ],
   "metadata": {
    "collapsed": false,
    "ExecuteTime": {
     "end_time": "2023-12-03T02:25:12.093803600Z",
     "start_time": "2023-12-03T02:25:12.062277200Z"
    }
   }
  },
  {
   "cell_type": "code",
   "execution_count": 173,
   "outputs": [
    {
     "name": "stdout",
     "output_type": "stream",
     "text": [
      "Accuracy: 0.8843406281891371\n",
      "Precision: 0.8400805639476334\n",
      "Recall (Sensitivity): 0.9486013190811917\n",
      "Specificity: 0.8204432383536862\n"
     ]
    }
   ],
   "source": [
    "from sklearn.linear_model import LogisticRegression\n",
    "from sklearn.metrics import accuracy_score, precision_score, recall_score, confusion_matrix, log_loss\n",
    "from sklearn.preprocessing import PolynomialFeatures\n",
    "import numpy as np\n",
    "\n",
    "# Create polynomial features of degree 2\n",
    "poly = PolynomialFeatures(degree=2, include_bias=False)\n",
    "X_train_poly = poly.fit_transform(X_train)\n",
    "X_test_poly = poly.transform(X_test)\n",
    "\n",
    "# Create a logistic regression classifier\n",
    "log_reg = LogisticRegression(max_iter=1000)\n",
    "\n",
    "# Train the model using the training sets with polynomial features\n",
    "log_reg.fit(X_train_poly, y_train)\n",
    "\n",
    "# Predict on test set with polynomial features\n",
    "y_pred = log_reg.predict(X_test_poly)\n",
    "y_pred_proba = log_reg.predict_proba(X_test_poly)[:, 1]  # Probabilities for the positive class\n",
    "\n",
    "# Binary Cross-Entropy Loss\n",
    "loss = log_loss(y_test, y_pred_proba)\n",
    "\n",
    "# Accuracy\n",
    "accuracy = accuracy_score(y_test, y_pred)\n",
    "\n",
    "# Precision\n",
    "precision = precision_score(y_test, y_pred)\n",
    "\n",
    "# Recall\n",
    "recall = recall_score(y_test, y_pred)\n",
    "\n",
    "# Specificity\n",
    "tn, fp, fn, tp = confusion_matrix(y_test, y_pred).ravel()\n",
    "specificity = tn / (tn + fp)\n",
    "\n",
    "# Displaying the metrics\n",
    "print(f\"Accuracy: {accuracy}\")\n",
    "print(f\"Precision: {precision}\")\n",
    "print(f\"Recall (Sensitivity): {recall}\")\n",
    "print(f\"Specificity: {specificity}\")"
   ],
   "metadata": {
    "collapsed": false,
    "ExecuteTime": {
     "end_time": "2023-12-03T02:25:18.174527800Z",
     "start_time": "2023-12-03T02:25:12.092802500Z"
    }
   }
  },
  {
   "cell_type": "code",
   "execution_count": 174,
   "outputs": [
    {
     "name": "stdout",
     "output_type": "stream",
     "text": [
      "Accuracy: 0.7779793627395396\n",
      "Precision: 0.7318000380155864\n",
      "Recall (Sensitivity): 0.8755969979531498\n",
      "Specificity: 0.6809136137494346\n"
     ]
    }
   ],
   "source": [
    "from sklearn.neighbors import KNeighborsClassifier\n",
    "from sklearn.metrics import accuracy_score, precision_score, recall_score, confusion_matrix\n",
    "\n",
    "# Create a K-NN classifier. You can change 'n_neighbors' to optimize performance\n",
    "knn = KNeighborsClassifier(n_neighbors=5)\n",
    "\n",
    "# Train the model using the training sets\n",
    "knn.fit(X_train, y_train)\n",
    "\n",
    "# Predict on test set\n",
    "y_pred = knn.predict(X_test)\n",
    "\n",
    "# Accuracy\n",
    "accuracy = accuracy_score(y_test, y_pred)\n",
    "\n",
    "# Precision\n",
    "precision = precision_score(y_test, y_pred)\n",
    "\n",
    "# Recall\n",
    "recall = recall_score(y_test, y_pred)\n",
    "\n",
    "# Specificity\n",
    "tn, fp, fn, tp = confusion_matrix(y_test, y_pred).ravel()\n",
    "specificity = tn / (tn + fp)\n",
    "\n",
    "# Displaying the metrics\n",
    "print(f\"Accuracy: {accuracy}\")\n",
    "print(f\"Precision: {precision}\")\n",
    "print(f\"Recall (Sensitivity): {recall}\")\n",
    "print(f\"Specificity: {specificity}\")"
   ],
   "metadata": {
    "collapsed": false,
    "ExecuteTime": {
     "end_time": "2023-12-03T02:25:19.588742900Z",
     "start_time": "2023-12-03T02:25:18.178030300Z"
    }
   }
  },
  {
   "cell_type": "code",
   "execution_count": 175,
   "outputs": [
    {
     "name": "stdout",
     "output_type": "stream",
     "text": [
      "Accuracy: 0.9023698832067127\n",
      "Precision: 0.8646864686468647\n",
      "Recall (Sensitivity): 0.9533773027063908\n",
      "Specificity: 0.8516508367254636\n"
     ]
    }
   ],
   "source": [
    "from sklearn.ensemble import RandomForestClassifier\n",
    "from sklearn.metrics import accuracy_score, precision_score, recall_score, confusion_matrix\n",
    "\n",
    "# Create a Random Forest classifier\n",
    "rf = RandomForestClassifier(n_estimators=100)  # n_estimators is the number of trees in the forest\n",
    "\n",
    "# Train the model using the training sets\n",
    "rf.fit(X_train, y_train)\n",
    "\n",
    "# Predict on the test set\n",
    "y_pred = rf.predict(X_test)\n",
    "\n",
    "# Evaluate the model\n",
    "# Accuracy\n",
    "accuracy = accuracy_score(y_test, y_pred)\n",
    "\n",
    "# Precision\n",
    "precision = precision_score(y_test, y_pred)\n",
    "\n",
    "# Recall\n",
    "recall = recall_score(y_test, y_pred)\n",
    "\n",
    "# Specificity\n",
    "tn, fp, fn, tp = confusion_matrix(y_test, y_pred).ravel()\n",
    "specificity = tn / (tn + fp)\n",
    "\n",
    "# Displaying the metrics\n",
    "print(f\"Accuracy: {accuracy}\")\n",
    "print(f\"Precision: {precision}\")\n",
    "print(f\"Recall (Sensitivity): {recall}\")\n",
    "print(f\"Specificity: {specificity}\")"
   ],
   "metadata": {
    "collapsed": false,
    "ExecuteTime": {
     "end_time": "2023-12-03T02:25:32.025425600Z",
     "start_time": "2023-12-03T02:25:19.586240600Z"
    }
   }
  },
  {
   "cell_type": "code",
   "execution_count": null,
   "outputs": [],
   "source": [],
   "metadata": {
    "collapsed": false
   }
  }
 ],
 "metadata": {
  "kernelspec": {
   "display_name": "Python 3",
   "language": "python",
   "name": "python3"
  },
  "language_info": {
   "codemirror_mode": {
    "name": "ipython",
    "version": 2
   },
   "file_extension": ".py",
   "mimetype": "text/x-python",
   "name": "python",
   "nbconvert_exporter": "python",
   "pygments_lexer": "ipython2",
   "version": "2.7.6"
  }
 },
 "nbformat": 4,
 "nbformat_minor": 0
}
